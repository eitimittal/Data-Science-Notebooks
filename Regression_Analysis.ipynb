{
 "cells": [
  {
   "cell_type": "code",
   "execution_count": 3,
   "metadata": {},
   "outputs": [],
   "source": [
    "#Importing Required library\n",
    "\n",
    "import pandas as p\n",
    "import random "
   ]
  },
  {
   "cell_type": "markdown",
   "metadata": {},
   "source": [
    "### Creating Our own Data with Random Value"
   ]
  },
  {
   "cell_type": "code",
   "execution_count": 4,
   "metadata": {},
   "outputs": [],
   "source": [
    "#Function to create our own data\n",
    "#n=how many we want\n",
    "\n",
    "def Rand(start, end, n): \n",
    "    res = [] \n",
    "    for j in range(n): \n",
    "        res.append(random.randint(start, end)) \n",
    "    return res \n",
    "  "
   ]
  },
  {
   "cell_type": "code",
   "execution_count": 5,
   "metadata": {},
   "outputs": [],
   "source": [
    "#making 50 row dataset\n",
    "\n",
    "price=Rand(2380000,10150000, 50)\n",
    "area=Rand(4320,16200,50)\n",
    "age=Rand(5,25,50)\n",
    "\n",
    "loc=['Katihar', 'Kochi', 'Indore', 'Jabalpur', 'Varanasi', 'Surat', 'Jaipur', 'Bengaluru', 'Nagpur', 'Kolkata', 'Visakhapatnam', 'Ranchi', 'Amritsar', 'Srinagar', 'Patna', 'Ujjain', 'Ahmedabad', 'Guwahati', 'Mangalore', 'Vadodara', 'Raipur', 'Chandigarh', 'Kochi', 'Indore', 'Jabalpur', 'Varanasi', 'Surat', 'Jaipur', 'Bengaluru', 'Nagpur', 'Kolkata', 'Visakhapatnam', 'Ranchi', 'Amritsar', 'Srinagar', 'Patna', 'Ujjain', 'Ahmedabad', 'Guwahati', 'Mangalore', 'Vadodara', 'Raipur','Chandigarh', 'Kochi', 'Indore', 'Jabalpur', 'Varanasi', 'Surat', 'Jaipur', 'Bengaluru']\n",
    "\n",
    "#print(len(location))"
   ]
  },
  {
   "cell_type": "code",
   "execution_count": 32,
   "metadata": {},
   "outputs": [],
   "source": [
    "df=pd.DataFrame({'price':price,'area':area,'age':age,'location':loc})"
   ]
  },
  {
   "cell_type": "code",
   "execution_count": 33,
   "metadata": {},
   "outputs": [
    {
     "data": {
      "text/html": [
       "<div>\n",
       "<style scoped>\n",
       "    .dataframe tbody tr th:only-of-type {\n",
       "        vertical-align: middle;\n",
       "    }\n",
       "\n",
       "    .dataframe tbody tr th {\n",
       "        vertical-align: top;\n",
       "    }\n",
       "\n",
       "    .dataframe thead th {\n",
       "        text-align: right;\n",
       "    }\n",
       "</style>\n",
       "<table border=\"1\" class=\"dataframe\">\n",
       "  <thead>\n",
       "    <tr style=\"text-align: right;\">\n",
       "      <th></th>\n",
       "      <th>price</th>\n",
       "      <th>area</th>\n",
       "      <th>age</th>\n",
       "      <th>location</th>\n",
       "    </tr>\n",
       "  </thead>\n",
       "  <tbody>\n",
       "    <tr>\n",
       "      <th>0</th>\n",
       "      <td>2755110</td>\n",
       "      <td>15175</td>\n",
       "      <td>14</td>\n",
       "      <td>Katihar</td>\n",
       "    </tr>\n",
       "    <tr>\n",
       "      <th>1</th>\n",
       "      <td>6719644</td>\n",
       "      <td>15241</td>\n",
       "      <td>7</td>\n",
       "      <td>Kochi</td>\n",
       "    </tr>\n",
       "    <tr>\n",
       "      <th>2</th>\n",
       "      <td>5313882</td>\n",
       "      <td>8114</td>\n",
       "      <td>21</td>\n",
       "      <td>Indore</td>\n",
       "    </tr>\n",
       "    <tr>\n",
       "      <th>3</th>\n",
       "      <td>6698614</td>\n",
       "      <td>6247</td>\n",
       "      <td>11</td>\n",
       "      <td>Jabalpur</td>\n",
       "    </tr>\n",
       "    <tr>\n",
       "      <th>4</th>\n",
       "      <td>5735201</td>\n",
       "      <td>7647</td>\n",
       "      <td>25</td>\n",
       "      <td>Varanasi</td>\n",
       "    </tr>\n",
       "  </tbody>\n",
       "</table>\n",
       "</div>"
      ],
      "text/plain": [
       "     price   area  age  location\n",
       "0  2755110  15175   14   Katihar\n",
       "1  6719644  15241    7     Kochi\n",
       "2  5313882   8114   21    Indore\n",
       "3  6698614   6247   11  Jabalpur\n",
       "4  5735201   7647   25  Varanasi"
      ]
     },
     "execution_count": 33,
     "metadata": {},
     "output_type": "execute_result"
    }
   ],
   "source": [
    "df.head()"
   ]
  },
  {
   "cell_type": "code",
   "execution_count": null,
   "metadata": {},
   "outputs": [],
   "source": [
    "#Download the data for future use\n",
    "\n",
    "df.to_csv('house_price_own_data.csv')"
   ]
  },
  {
   "cell_type": "code",
   "execution_count": 34,
   "metadata": {},
   "outputs": [
    {
     "data": {
      "text/plain": [
       "(50, 4)"
      ]
     },
     "execution_count": 34,
     "metadata": {},
     "output_type": "execute_result"
    }
   ],
   "source": [
    "df.shape"
   ]
  },
  {
   "cell_type": "code",
   "execution_count": 35,
   "metadata": {},
   "outputs": [
    {
     "data": {
      "text/html": [
       "<div>\n",
       "<style scoped>\n",
       "    .dataframe tbody tr th:only-of-type {\n",
       "        vertical-align: middle;\n",
       "    }\n",
       "\n",
       "    .dataframe tbody tr th {\n",
       "        vertical-align: top;\n",
       "    }\n",
       "\n",
       "    .dataframe thead th {\n",
       "        text-align: right;\n",
       "    }\n",
       "</style>\n",
       "<table border=\"1\" class=\"dataframe\">\n",
       "  <thead>\n",
       "    <tr style=\"text-align: right;\">\n",
       "      <th></th>\n",
       "      <th>price</th>\n",
       "      <th>area</th>\n",
       "      <th>age</th>\n",
       "    </tr>\n",
       "  </thead>\n",
       "  <tbody>\n",
       "    <tr>\n",
       "      <th>count</th>\n",
       "      <td>5.000000e+01</td>\n",
       "      <td>50.000000</td>\n",
       "      <td>50.000000</td>\n",
       "    </tr>\n",
       "    <tr>\n",
       "      <th>mean</th>\n",
       "      <td>6.327631e+06</td>\n",
       "      <td>9611.640000</td>\n",
       "      <td>14.740000</td>\n",
       "    </tr>\n",
       "    <tr>\n",
       "      <th>std</th>\n",
       "      <td>2.363067e+06</td>\n",
       "      <td>3690.602792</td>\n",
       "      <td>6.721303</td>\n",
       "    </tr>\n",
       "    <tr>\n",
       "      <th>min</th>\n",
       "      <td>2.436151e+06</td>\n",
       "      <td>4329.000000</td>\n",
       "      <td>5.000000</td>\n",
       "    </tr>\n",
       "    <tr>\n",
       "      <th>25%</th>\n",
       "      <td>4.501480e+06</td>\n",
       "      <td>6423.750000</td>\n",
       "      <td>8.250000</td>\n",
       "    </tr>\n",
       "    <tr>\n",
       "      <th>50%</th>\n",
       "      <td>6.043802e+06</td>\n",
       "      <td>9065.500000</td>\n",
       "      <td>15.000000</td>\n",
       "    </tr>\n",
       "    <tr>\n",
       "      <th>75%</th>\n",
       "      <td>8.461948e+06</td>\n",
       "      <td>13281.250000</td>\n",
       "      <td>20.000000</td>\n",
       "    </tr>\n",
       "    <tr>\n",
       "      <th>max</th>\n",
       "      <td>9.977528e+06</td>\n",
       "      <td>16056.000000</td>\n",
       "      <td>25.000000</td>\n",
       "    </tr>\n",
       "  </tbody>\n",
       "</table>\n",
       "</div>"
      ],
      "text/plain": [
       "              price          area        age\n",
       "count  5.000000e+01     50.000000  50.000000\n",
       "mean   6.327631e+06   9611.640000  14.740000\n",
       "std    2.363067e+06   3690.602792   6.721303\n",
       "min    2.436151e+06   4329.000000   5.000000\n",
       "25%    4.501480e+06   6423.750000   8.250000\n",
       "50%    6.043802e+06   9065.500000  15.000000\n",
       "75%    8.461948e+06  13281.250000  20.000000\n",
       "max    9.977528e+06  16056.000000  25.000000"
      ]
     },
     "execution_count": 35,
     "metadata": {},
     "output_type": "execute_result"
    }
   ],
   "source": [
    "df.describe()"
   ]
  },
  {
   "cell_type": "markdown",
   "metadata": {},
   "source": [
    "### Applying Sklearn Model for Multiple Regression"
   ]
  },
  {
   "cell_type": "code",
   "execution_count": 38,
   "metadata": {},
   "outputs": [],
   "source": [
    "from sklearn import linear_model"
   ]
  },
  {
   "cell_type": "code",
   "execution_count": 43,
   "metadata": {},
   "outputs": [
    {
     "data": {
      "text/plain": [
       "LinearRegression()"
      ]
     },
     "execution_count": 43,
     "metadata": {},
     "output_type": "execute_result"
    }
   ],
   "source": [
    "regression=linear_model.Linearregressionression()\n",
    "\n",
    "regression.fit(df[['area','age']],df.price)"
   ]
  },
  {
   "cell_type": "markdown",
   "metadata": {},
   "source": [
    "### Checking Coefficient and Intercept"
   ]
  },
  {
   "cell_type": "code",
   "execution_count": 45,
   "metadata": {},
   "outputs": [
    {
     "data": {
      "text/plain": [
       "array([-6.76183079e+00,  3.40732513e+04])"
      ]
     },
     "execution_count": 45,
     "metadata": {},
     "output_type": "execute_result"
    }
   ],
   "source": [
    "regression.coef_"
   ]
  },
  {
   "cell_type": "code",
   "execution_count": 46,
   "metadata": {},
   "outputs": [
    {
     "data": {
      "text/plain": [
       "5890383.119364979"
      ]
     },
     "execution_count": 46,
     "metadata": {},
     "output_type": "execute_result"
    }
   ],
   "source": [
    "regression.intercept_"
   ]
  },
  {
   "cell_type": "markdown",
   "metadata": {},
   "source": [
    "### Predicting House Price by giving one Random Value"
   ]
  },
  {
   "cell_type": "code",
   "execution_count": 51,
   "metadata": {},
   "outputs": [
    {
     "name": "stdout",
     "output_type": "stream",
     "text": [
      "Price = 6005863.595263954\n"
     ]
    }
   ],
   "source": [
    "area=8117\n",
    "age=5\n",
    "\n",
    "print(\"Price =\",regrression.predict([[8117,5]])[0])"
   ]
  }
 ],
 "metadata": {
  "kernelspec": {
   "display_name": "Python 3",
   "language": "python",
   "name": "python3"
  },
  "language_info": {
   "codemirror_mode": {
    "name": "ipython",
    "version": 3
   },
   "file_extension": ".py",
   "mimetype": "text/x-python",
   "name": "python",
   "nbconvert_exporter": "python",
   "pygments_lexer": "ipython3",
   "version": "3.8.3"
  }
 },
 "nbformat": 4,
 "nbformat_minor": 4
}
