{
 "cells": [
  {
   "cell_type": "code",
   "execution_count": 1,
   "metadata": {},
   "outputs": [],
   "source": [
    "import numpy as np\n",
    "import pandas as pd\n",
    "import matplotlib.pyplot as plt\n",
    "import seaborn as sns\n",
    "# roc curve and auc score\n",
    "from sklearn.datasets import make_classification\n",
    "from sklearn.neighbors import KNeighborsClassifier\n",
    "from sklearn.ensemble import RandomForestClassifier\n",
    "from sklearn.model_selection import train_test_split\n",
    "from sklearn.metrics import roc_curve\n",
    "from sklearn.metrics import roc_auc_score"
   ]
  },
  {
   "cell_type": "code",
   "execution_count": 2,
   "metadata": {},
   "outputs": [],
   "source": [
    "def plot_roc_curve(fpr, tpr):\n",
    "    plt.plot(fpr, tpr, color='orange', label='ROC')\n",
    "    plt.plot([0, 1], [0, 1], color='darkblue', linestyle='--')\n",
    "    plt.xlabel('False Positive Rate')\n",
    "    plt.ylabel('True Positive Rate')\n",
    "    plt.title('Receiver Operating Characteristic (ROC) Curve')\n",
    "    plt.legend()\n",
    "    plt.show()"
   ]
  },
  {
   "cell_type": "code",
   "execution_count": 3,
   "metadata": {},
   "outputs": [],
   "source": [
    "data_X, class_label = make_classification(n_samples=1000, n_classes=2, weights=[1,1], random_state=1)\n"
   ]
  },
  {
   "cell_type": "code",
   "execution_count": 4,
   "metadata": {},
   "outputs": [],
   "source": [
    "trainX, testX, trainy, testy = train_test_split(data_X, class_label, test_size=0.3, random_state=1)\n"
   ]
  },
  {
   "cell_type": "code",
   "execution_count": 5,
   "metadata": {},
   "outputs": [
    {
     "data": {
      "text/plain": [
       "RandomForestClassifier()"
      ]
     },
     "execution_count": 5,
     "metadata": {},
     "output_type": "execute_result"
    }
   ],
   "source": [
    "model = RandomForestClassifier()\n",
    "model.fit(trainX, trainy)"
   ]
  },
  {
   "cell_type": "code",
   "execution_count": 7,
   "metadata": {},
   "outputs": [],
   "source": [
    "probs = model.predict_proba(testX)\n"
   ]
  },
  {
   "cell_type": "code",
   "execution_count": 8,
   "metadata": {},
   "outputs": [],
   "source": [
    "probs = probs[:, 1]\n"
   ]
  },
  {
   "cell_type": "code",
   "execution_count": 9,
   "metadata": {},
   "outputs": [
    {
     "name": "stdout",
     "output_type": "stream",
     "text": [
      "AUC: 0.95\n"
     ]
    }
   ],
   "source": [
    "auc = roc_auc_score(testy, probs)\n",
    "print('AUC: %.2f' % auc)"
   ]
  },
  {
   "cell_type": "code",
   "execution_count": 10,
   "metadata": {},
   "outputs": [],
   "source": [
    "fpr, tpr, thresholds = roc_curve(testy, probs)\n"
   ]
  },
  {
   "cell_type": "code",
   "execution_count": 11,
   "metadata": {},
   "outputs": [
    {
     "data": {
      "text/plain": [
       "array([0.        , 0.        , 0.        , 0.        , 0.00704225,\n",
       "       0.00704225, 0.00704225, 0.01408451, 0.02112676, 0.02112676,\n",
       "       0.02112676, 0.02112676, 0.02816901, 0.02816901, 0.02816901,\n",
       "       0.02816901, 0.02816901, 0.02816901, 0.02816901, 0.03521127,\n",
       "       0.06338028, 0.07042254, 0.07746479, 0.07746479, 0.08450704,\n",
       "       0.09859155, 0.1056338 , 0.1056338 , 0.1056338 , 0.11267606,\n",
       "       0.11267606, 0.12676056, 0.12676056, 0.14084507, 0.14084507,\n",
       "       0.14084507, 0.14084507, 0.14788732, 0.15492958, 0.15492958,\n",
       "       0.16901408, 0.18309859, 0.1971831 , 0.21126761, 0.22535211,\n",
       "       0.25352113, 0.26760563, 0.28873239, 0.3028169 , 0.34507042,\n",
       "       0.37323944, 0.40140845, 0.4084507 , 0.42957746, 0.51408451,\n",
       "       0.57746479, 0.66901408, 0.75352113, 0.88028169, 0.97183099,\n",
       "       1.        ])"
      ]
     },
     "execution_count": 11,
     "metadata": {},
     "output_type": "execute_result"
    }
   ],
   "source": [
    "fpr"
   ]
  },
  {
   "cell_type": "code",
   "execution_count": 12,
   "metadata": {},
   "outputs": [
    {
     "data": {
      "text/plain": [
       "array([0.        , 0.00632911, 0.01265823, 0.05063291, 0.10759494,\n",
       "       0.15822785, 0.21518987, 0.24050633, 0.29746835, 0.32278481,\n",
       "       0.37341772, 0.41139241, 0.4556962 , 0.49367089, 0.51265823,\n",
       "       0.56329114, 0.62025316, 0.64556962, 0.6835443 , 0.71518987,\n",
       "       0.76582278, 0.7721519 , 0.78481013, 0.79746835, 0.82278481,\n",
       "       0.84810127, 0.86708861, 0.87341772, 0.89240506, 0.89873418,\n",
       "       0.91772152, 0.91772152, 0.92405063, 0.92405063, 0.93670886,\n",
       "       0.94936709, 0.9556962 , 0.96202532, 0.96202532, 0.97468354,\n",
       "       0.97468354, 0.98734177, 0.98734177, 0.98734177, 0.98734177,\n",
       "       0.98734177, 0.98734177, 0.98734177, 0.98734177, 0.98734177,\n",
       "       0.98734177, 0.98734177, 0.99367089, 1.        , 1.        ,\n",
       "       1.        , 1.        , 1.        , 1.        , 1.        ,\n",
       "       1.        ])"
      ]
     },
     "execution_count": 12,
     "metadata": {},
     "output_type": "execute_result"
    }
   ],
   "source": [
    "tpr"
   ]
  },
  {
   "cell_type": "code",
   "execution_count": 13,
   "metadata": {},
   "outputs": [
    {
     "data": {
      "image/png": "[encoded data removed]",
      "text/plain": [
       "<Figure size 432x288 with 1 Axes>"
      ]
     },
     "metadata": {
      "needs_background": "light"
     },
     "output_type": "display_data"
    }
   ],
   "source": [
    "plot_roc_curve(fpr, tpr)\n"
   ]
  },
  {
   "cell_type": "code",
   "execution_count": null,
   "metadata": {},
   "outputs": [],
   "source": []
  }
 ],
 "metadata": {
  "kernelspec": {
   "display_name": "Python 3",
   "language": "python",
   "name": "python3"
  },
  "language_info": {
   "codemirror_mode": {
    "name": "ipython",
    "version": 3
   },
   "file_extension": ".py",
   "mimetype": "text/x-python",
   "name": "python",
   "nbconvert_exporter": "python",
   "pygments_lexer": "ipython3",
   "version": "3.8.3"
  }
 },
 "nbformat": 4,
 "nbformat_minor": 4
}
